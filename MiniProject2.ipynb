{
  "nbformat": 4,
  "nbformat_minor": 0,
  "metadata": {
    "colab": {
      "provenance": []
    },
    "kernelspec": {
      "name": "python3",
      "display_name": "Python 3"
    },
    "language_info": {
      "name": "python"
    }
  },
  "cells": [
    {
      "cell_type": "markdown",
      "source": [
        "# **Combo Finder**"
      ],
      "metadata": {
        "id": "ZB_Fv4UH6tsc"
      }
    },
    {
      "cell_type": "code",
      "execution_count": null,
      "metadata": {
        "colab": {
          "base_uri": "https://localhost:8080/"
        },
        "id": "FocRdPr66qJk",
        "outputId": "9d1c7daa-b19c-43c7-8a7d-b5e79c6b3c99"
      },
      "outputs": [
        {
          "output_type": "stream",
          "name": "stdout",
          "text": [
            "('p1', 'p13', 'p2', 'p3', 'p4', 'p5', 'p6', 'p7', 'p9')\n",
            "('p11', 'p12', 'p13', 'p4', 'p5', 'p6')\n",
            "('p10', 'p12', 'p2', 'p3', 'p4', 'p8', 'p9')\n",
            "('p1', 'p12', 'p14', 'p3', 'p4', 'p5', 'p7', 'p8')\n",
            "('p1', 'p10', 'p11', 'p13', 'p3', 'p4', 'p8')\n",
            "('p1', 'p10', 'p11', 'p12', 'p2', 'p3', 'p4', 'p8')\n",
            "('p13', 'p14', 'p2', 'p4', 'p6', 'p7', 'p9')\n",
            "('p12', 'p13', 'p5', 'p6', 'p8', 'p9')\n",
            "('p11', 'p14', 'p4', 'p5', 'p6', 'p7', 'p9')\n",
            "('p10', 'p13', 'p14', 'p3', 'p4', 'p5', 'p7')\n",
            "('p11', 'p14', 'p2', 'p3', 'p5', 'p6', 'p7', 'p8')\n",
            "('p1', 'p11', 'p13', 'p14', 'p4', 'p5', 'p7')\n",
            "('p10', 'p12', 'p13', 'p14', 'p2', 'p4')\n",
            "('p1', 'p11', 'p3', 'p4', 'p6', 'p7', 'p8', 'p9')\n",
            "('p11', 'p13', 'p14', 'p3', 'p6', 'p9')\n",
            "('p1', 'p10', 'p13', 'p14', 'p3', 'p4', 'p6', 'p8')\n",
            "('p10', 'p11', 'p12', 'p3', 'p6', 'p7')\n",
            "('p11', 'p14', 'p4', 'p5', 'p6', 'p8', 'p9')\n",
            "('p12', 'p13', 'p14', 'p7', 'p9')\n",
            "('p1', 'p10', 'p3', 'p5', 'p6', 'p7', 'p8', 'p9')\n",
            "('p10', 'p12', 'p4', 'p7', 'p8', 'p9')\n",
            "('p11', 'p13', 'p14', 'p5', 'p6', 'p7')\n",
            "('p1', 'p10', 'p13', 'p2', 'p4', 'p5', 'p8', 'p9')\n",
            "('p10', 'p12', 'p13', 'p6', 'p7')\n",
            "('p13', 'p14', 'p2', 'p3', 'p4', 'p5', 'p6', 'p7')\n",
            "('p1', 'p10', 'p13', 'p3', 'p4', 'p7', 'p9')\n",
            "('p1', 'p10', 'p12', 'p13', 'p2', 'p4', 'p7')\n",
            "('p1', 'p10', 'p13', 'p14', 'p5', 'p7', 'p8')\n",
            "('p11', 'p12', 'p13', 'p3', 'p4', 'p8')\n",
            "('p1', 'p10', 'p13', 'p14', 'p2', 'p3', 'p6', 'p9')\n",
            "('p1', 'p10', 'p14', 'p3', 'p5', 'p6', 'p7', 'p9')\n",
            "('p1', 'p10', 'p11', 'p12', 'p14', 'p9')\n",
            "('p1', 'p10', 'p12', 'p3', 'p4', 'p5', 'p7', 'p8')\n",
            "('p1', 'p12', 'p14', 'p2', 'p4', 'p5', 'p7', 'p9')\n",
            "('p10', 'p12', 'p2', 'p3', 'p5', 'p6', 'p9')\n",
            "('p1', 'p11', 'p13', 'p4', 'p5', 'p8', 'p9')\n",
            "('p1', 'p10', 'p12', 'p2', 'p3', 'p4', 'p8', 'p9')\n",
            "('p11', 'p13', 'p14', 'p3', 'p4', 'p5', 'p8')\n",
            "('p1', 'p11', 'p13', 'p14', 'p2', 'p4', 'p6', 'p8')\n",
            "('p11', 'p13', 'p4', 'p6', 'p8', 'p9')\n",
            "('p10', 'p12', 'p4', 'p5', 'p7', 'p9')\n",
            "('p11', 'p12', 'p14', 'p2', 'p4', 'p5', 'p7')\n",
            "('p10', 'p11', 'p2', 'p4', 'p6', 'p7', 'p9')\n",
            "('p1', 'p11', 'p2', 'p3', 'p4', 'p5', 'p6', 'p8', 'p9')\n",
            "('p1', 'p10', 'p11', 'p12', 'p3', 'p4', 'p6')\n",
            "('p1', 'p10', 'p14', 'p3', 'p5', 'p6', 'p8', 'p9')\n",
            "('p1', 'p11', 'p13', 'p14', 'p2', 'p4', 'p5', 'p8')\n",
            "('p1', 'p12', 'p13', 'p2', 'p3', 'p4', 'p6', 'p8')\n",
            "('p1', 'p12', 'p13', 'p3', 'p4', 'p6', 'p9')\n",
            "('p10', 'p11', 'p3', 'p5', 'p6', 'p8', 'p9')\n",
            "('p1', 'p11', 'p13', 'p14', 'p4', 'p6', 'p8')\n",
            "\n",
            "Total Sets:  51 \n",
            "\n"
          ]
        }
      ],
      "source": [
        "import random as r\n",
        "ProductList = {'p1':10, 'p2':15, 'p3':20, 'p4':25, 'p5':30, 'p6':35, 'p7':50,\n",
        "               'p8':40, 'p9':55, 'p10':60, 'p11':65, 'p12':75, 'p13':70,\n",
        "               'p14':45}\n",
        "LB          = 290\n",
        "UB          = 310\n",
        "ResultList  = set()   \n",
        "Iterations  = 1000    \n",
        "\n",
        "for i in range(Iterations):\n",
        "    SetSize = r.randint(2, len(ProductList)-1)\n",
        "    ComboList = r.sample(list(ProductList.keys()),SetSize)\n",
        "    ComboList.sort()\n",
        "    ComboSum = sum([ ProductList[i] for i in ComboList])\n",
        "    if ComboSum>= LB and ComboSum<= UB:\n",
        "      ResultList.add(tuple(ComboList))\n",
        "\n",
        "for r in ResultList:\n",
        "\tprint (r)\n",
        "print (\"\\nTotal Sets: \", len(ResultList), \"\\n\")\n"
      ]
    },
    {
      "cell_type": "code",
      "source": [],
      "metadata": {
        "id": "InndUaxy7vbc"
      },
      "execution_count": null,
      "outputs": []
    }
  ]
}